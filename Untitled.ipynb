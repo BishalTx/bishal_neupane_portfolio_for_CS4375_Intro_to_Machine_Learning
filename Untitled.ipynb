{
 "cells": [
  {
   "cell_type": "markdown",
   "id": "fddbb18d",
   "metadata": {},
   "source": [
    "## Bishal Neupane\n",
    "## Bxn200007"
   ]
  },
  {
   "cell_type": "markdown",
   "id": "ee9f827a",
   "metadata": {},
   "source": [
    "## Importing necessary libraries"
   ]
  },
  {
   "cell_type": "code",
   "execution_count": 242,
   "id": "7f3752df",
   "metadata": {},
   "outputs": [],
   "source": [
    "import pandas as pd\n",
    "import numpy as np\n",
    "import seaborn as sns\n",
    "from sklearn.metrics import accuracy_score\n",
    "from sklearn.metrics import classification_report\n",
    "from sklearn.tree import DecisionTreeClassifier\n",
    "from sklearn import tree\n",
    "import matplotlib.pyplot as plt\n",
    "from sklearn.neural_network import MLPClassifier\n",
    "\n"
   ]
  },
  {
   "cell_type": "markdown",
   "id": "08623a7d",
   "metadata": {},
   "source": [
    "## Importing files"
   ]
  },
  {
   "cell_type": "code",
   "execution_count": 322,
   "id": "8ad52fd1",
   "metadata": {},
   "outputs": [],
   "source": [
    "data = pd.read_csv(\"C:/Users/bisha/OneDrive/Desktop/Fall 2022/Machine Learning/programming/Auto.csv\")"
   ]
  },
  {
   "cell_type": "code",
   "execution_count": 323,
   "id": "0f08f01c",
   "metadata": {},
   "outputs": [
    {
     "data": {
      "text/html": [
       "<div>\n",
       "<style scoped>\n",
       "    .dataframe tbody tr th:only-of-type {\n",
       "        vertical-align: middle;\n",
       "    }\n",
       "\n",
       "    .dataframe tbody tr th {\n",
       "        vertical-align: top;\n",
       "    }\n",
       "\n",
       "    .dataframe thead th {\n",
       "        text-align: right;\n",
       "    }\n",
       "</style>\n",
       "<table border=\"1\" class=\"dataframe\">\n",
       "  <thead>\n",
       "    <tr style=\"text-align: right;\">\n",
       "      <th></th>\n",
       "      <th>mpg</th>\n",
       "      <th>cylinders</th>\n",
       "      <th>displacement</th>\n",
       "      <th>horsepower</th>\n",
       "      <th>weight</th>\n",
       "      <th>acceleration</th>\n",
       "      <th>year</th>\n",
       "      <th>origin</th>\n",
       "      <th>name</th>\n",
       "    </tr>\n",
       "  </thead>\n",
       "  <tbody>\n",
       "    <tr>\n",
       "      <th>0</th>\n",
       "      <td>18.0</td>\n",
       "      <td>8</td>\n",
       "      <td>307.0</td>\n",
       "      <td>130</td>\n",
       "      <td>3504</td>\n",
       "      <td>12.0</td>\n",
       "      <td>70.0</td>\n",
       "      <td>1</td>\n",
       "      <td>chevrolet chevelle malibu</td>\n",
       "    </tr>\n",
       "    <tr>\n",
       "      <th>1</th>\n",
       "      <td>15.0</td>\n",
       "      <td>8</td>\n",
       "      <td>350.0</td>\n",
       "      <td>165</td>\n",
       "      <td>3693</td>\n",
       "      <td>11.5</td>\n",
       "      <td>70.0</td>\n",
       "      <td>1</td>\n",
       "      <td>buick skylark 320</td>\n",
       "    </tr>\n",
       "    <tr>\n",
       "      <th>2</th>\n",
       "      <td>18.0</td>\n",
       "      <td>8</td>\n",
       "      <td>318.0</td>\n",
       "      <td>150</td>\n",
       "      <td>3436</td>\n",
       "      <td>11.0</td>\n",
       "      <td>70.0</td>\n",
       "      <td>1</td>\n",
       "      <td>plymouth satellite</td>\n",
       "    </tr>\n",
       "    <tr>\n",
       "      <th>3</th>\n",
       "      <td>16.0</td>\n",
       "      <td>8</td>\n",
       "      <td>304.0</td>\n",
       "      <td>150</td>\n",
       "      <td>3433</td>\n",
       "      <td>12.0</td>\n",
       "      <td>70.0</td>\n",
       "      <td>1</td>\n",
       "      <td>amc rebel sst</td>\n",
       "    </tr>\n",
       "    <tr>\n",
       "      <th>4</th>\n",
       "      <td>17.0</td>\n",
       "      <td>8</td>\n",
       "      <td>302.0</td>\n",
       "      <td>140</td>\n",
       "      <td>3449</td>\n",
       "      <td>NaN</td>\n",
       "      <td>70.0</td>\n",
       "      <td>1</td>\n",
       "      <td>ford torino</td>\n",
       "    </tr>\n",
       "    <tr>\n",
       "      <th>...</th>\n",
       "      <td>...</td>\n",
       "      <td>...</td>\n",
       "      <td>...</td>\n",
       "      <td>...</td>\n",
       "      <td>...</td>\n",
       "      <td>...</td>\n",
       "      <td>...</td>\n",
       "      <td>...</td>\n",
       "      <td>...</td>\n",
       "    </tr>\n",
       "    <tr>\n",
       "      <th>387</th>\n",
       "      <td>27.0</td>\n",
       "      <td>4</td>\n",
       "      <td>140.0</td>\n",
       "      <td>86</td>\n",
       "      <td>2790</td>\n",
       "      <td>15.6</td>\n",
       "      <td>82.0</td>\n",
       "      <td>1</td>\n",
       "      <td>ford mustang gl</td>\n",
       "    </tr>\n",
       "    <tr>\n",
       "      <th>388</th>\n",
       "      <td>44.0</td>\n",
       "      <td>4</td>\n",
       "      <td>97.0</td>\n",
       "      <td>52</td>\n",
       "      <td>2130</td>\n",
       "      <td>24.6</td>\n",
       "      <td>82.0</td>\n",
       "      <td>2</td>\n",
       "      <td>vw pickup</td>\n",
       "    </tr>\n",
       "    <tr>\n",
       "      <th>389</th>\n",
       "      <td>32.0</td>\n",
       "      <td>4</td>\n",
       "      <td>135.0</td>\n",
       "      <td>84</td>\n",
       "      <td>2295</td>\n",
       "      <td>11.6</td>\n",
       "      <td>82.0</td>\n",
       "      <td>1</td>\n",
       "      <td>dodge rampage</td>\n",
       "    </tr>\n",
       "    <tr>\n",
       "      <th>390</th>\n",
       "      <td>28.0</td>\n",
       "      <td>4</td>\n",
       "      <td>120.0</td>\n",
       "      <td>79</td>\n",
       "      <td>2625</td>\n",
       "      <td>18.6</td>\n",
       "      <td>82.0</td>\n",
       "      <td>1</td>\n",
       "      <td>ford ranger</td>\n",
       "    </tr>\n",
       "    <tr>\n",
       "      <th>391</th>\n",
       "      <td>31.0</td>\n",
       "      <td>4</td>\n",
       "      <td>119.0</td>\n",
       "      <td>82</td>\n",
       "      <td>2720</td>\n",
       "      <td>19.4</td>\n",
       "      <td>82.0</td>\n",
       "      <td>1</td>\n",
       "      <td>chevy s-10</td>\n",
       "    </tr>\n",
       "  </tbody>\n",
       "</table>\n",
       "<p>392 rows × 9 columns</p>\n",
       "</div>"
      ],
      "text/plain": [
       "      mpg  cylinders  displacement  horsepower  weight  acceleration  year  \\\n",
       "0    18.0          8         307.0         130    3504          12.0  70.0   \n",
       "1    15.0          8         350.0         165    3693          11.5  70.0   \n",
       "2    18.0          8         318.0         150    3436          11.0  70.0   \n",
       "3    16.0          8         304.0         150    3433          12.0  70.0   \n",
       "4    17.0          8         302.0         140    3449           NaN  70.0   \n",
       "..    ...        ...           ...         ...     ...           ...   ...   \n",
       "387  27.0          4         140.0          86    2790          15.6  82.0   \n",
       "388  44.0          4          97.0          52    2130          24.6  82.0   \n",
       "389  32.0          4         135.0          84    2295          11.6  82.0   \n",
       "390  28.0          4         120.0          79    2625          18.6  82.0   \n",
       "391  31.0          4         119.0          82    2720          19.4  82.0   \n",
       "\n",
       "     origin                       name  \n",
       "0         1  chevrolet chevelle malibu  \n",
       "1         1          buick skylark 320  \n",
       "2         1         plymouth satellite  \n",
       "3         1              amc rebel sst  \n",
       "4         1                ford torino  \n",
       "..      ...                        ...  \n",
       "387       1            ford mustang gl  \n",
       "388       2                  vw pickup  \n",
       "389       1              dodge rampage  \n",
       "390       1                ford ranger  \n",
       "391       1                 chevy s-10  \n",
       "\n",
       "[392 rows x 9 columns]"
      ]
     },
     "execution_count": 323,
     "metadata": {},
     "output_type": "execute_result"
    }
   ],
   "source": [
    "data"
   ]
  },
  {
   "cell_type": "markdown",
   "id": "097e51ba",
   "metadata": {},
   "source": [
    "### Printing first Five Rows of Data"
   ]
  },
  {
   "cell_type": "code",
   "execution_count": 324,
   "id": "33e37125",
   "metadata": {},
   "outputs": [
    {
     "data": {
      "text/html": [
       "<div>\n",
       "<style scoped>\n",
       "    .dataframe tbody tr th:only-of-type {\n",
       "        vertical-align: middle;\n",
       "    }\n",
       "\n",
       "    .dataframe tbody tr th {\n",
       "        vertical-align: top;\n",
       "    }\n",
       "\n",
       "    .dataframe thead th {\n",
       "        text-align: right;\n",
       "    }\n",
       "</style>\n",
       "<table border=\"1\" class=\"dataframe\">\n",
       "  <thead>\n",
       "    <tr style=\"text-align: right;\">\n",
       "      <th></th>\n",
       "      <th>mpg</th>\n",
       "      <th>cylinders</th>\n",
       "      <th>displacement</th>\n",
       "      <th>horsepower</th>\n",
       "      <th>weight</th>\n",
       "      <th>acceleration</th>\n",
       "      <th>year</th>\n",
       "      <th>origin</th>\n",
       "      <th>name</th>\n",
       "    </tr>\n",
       "  </thead>\n",
       "  <tbody>\n",
       "    <tr>\n",
       "      <th>0</th>\n",
       "      <td>18.0</td>\n",
       "      <td>8</td>\n",
       "      <td>307.0</td>\n",
       "      <td>130</td>\n",
       "      <td>3504</td>\n",
       "      <td>12.0</td>\n",
       "      <td>70.0</td>\n",
       "      <td>1</td>\n",
       "      <td>chevrolet chevelle malibu</td>\n",
       "    </tr>\n",
       "    <tr>\n",
       "      <th>1</th>\n",
       "      <td>15.0</td>\n",
       "      <td>8</td>\n",
       "      <td>350.0</td>\n",
       "      <td>165</td>\n",
       "      <td>3693</td>\n",
       "      <td>11.5</td>\n",
       "      <td>70.0</td>\n",
       "      <td>1</td>\n",
       "      <td>buick skylark 320</td>\n",
       "    </tr>\n",
       "    <tr>\n",
       "      <th>2</th>\n",
       "      <td>18.0</td>\n",
       "      <td>8</td>\n",
       "      <td>318.0</td>\n",
       "      <td>150</td>\n",
       "      <td>3436</td>\n",
       "      <td>11.0</td>\n",
       "      <td>70.0</td>\n",
       "      <td>1</td>\n",
       "      <td>plymouth satellite</td>\n",
       "    </tr>\n",
       "    <tr>\n",
       "      <th>3</th>\n",
       "      <td>16.0</td>\n",
       "      <td>8</td>\n",
       "      <td>304.0</td>\n",
       "      <td>150</td>\n",
       "      <td>3433</td>\n",
       "      <td>12.0</td>\n",
       "      <td>70.0</td>\n",
       "      <td>1</td>\n",
       "      <td>amc rebel sst</td>\n",
       "    </tr>\n",
       "    <tr>\n",
       "      <th>4</th>\n",
       "      <td>17.0</td>\n",
       "      <td>8</td>\n",
       "      <td>302.0</td>\n",
       "      <td>140</td>\n",
       "      <td>3449</td>\n",
       "      <td>NaN</td>\n",
       "      <td>70.0</td>\n",
       "      <td>1</td>\n",
       "      <td>ford torino</td>\n",
       "    </tr>\n",
       "  </tbody>\n",
       "</table>\n",
       "</div>"
      ],
      "text/plain": [
       "    mpg  cylinders  displacement  horsepower  weight  acceleration  year  \\\n",
       "0  18.0          8         307.0         130    3504          12.0  70.0   \n",
       "1  15.0          8         350.0         165    3693          11.5  70.0   \n",
       "2  18.0          8         318.0         150    3436          11.0  70.0   \n",
       "3  16.0          8         304.0         150    3433          12.0  70.0   \n",
       "4  17.0          8         302.0         140    3449           NaN  70.0   \n",
       "\n",
       "   origin                       name  \n",
       "0       1  chevrolet chevelle malibu  \n",
       "1       1          buick skylark 320  \n",
       "2       1         plymouth satellite  \n",
       "3       1              amc rebel sst  \n",
       "4       1                ford torino  "
      ]
     },
     "execution_count": 324,
     "metadata": {},
     "output_type": "execute_result"
    }
   ],
   "source": [
    "data.head()\n"
   ]
  },
  {
   "cell_type": "markdown",
   "id": "134d0906",
   "metadata": {},
   "source": [
    "### Dimensions of Data"
   ]
  },
  {
   "cell_type": "code",
   "execution_count": 325,
   "id": "e25d2ede",
   "metadata": {},
   "outputs": [
    {
     "name": "stdout",
     "output_type": "stream",
     "text": [
      "<class 'pandas.core.frame.DataFrame'>\n",
      "RangeIndex: 392 entries, 0 to 391\n",
      "Data columns (total 9 columns):\n",
      " #   Column        Non-Null Count  Dtype  \n",
      "---  ------        --------------  -----  \n",
      " 0   mpg           392 non-null    float64\n",
      " 1   cylinders     392 non-null    int64  \n",
      " 2   displacement  392 non-null    float64\n",
      " 3   horsepower    392 non-null    int64  \n",
      " 4   weight        392 non-null    int64  \n",
      " 5   acceleration  391 non-null    float64\n",
      " 6   year          390 non-null    float64\n",
      " 7   origin        392 non-null    int64  \n",
      " 8   name          392 non-null    object \n",
      "dtypes: float64(4), int64(4), object(1)\n",
      "memory usage: 27.7+ KB\n"
     ]
    }
   ],
   "source": [
    "data.info()"
   ]
  },
  {
   "cell_type": "code",
   "execution_count": 326,
   "id": "f76bf71d",
   "metadata": {},
   "outputs": [
    {
     "name": "stdout",
     "output_type": "stream",
     "text": [
      "Number of Rows:  392\n",
      "Number of Columns:  9\n"
     ]
    }
   ],
   "source": [
    "print(\"Number of Rows: \",len(data))\n",
    "print(\"Number of Columns: \", len(data.columns))"
   ]
  },
  {
   "cell_type": "markdown",
   "id": "e2227762",
   "metadata": {},
   "source": [
    "## Data Exploration "
   ]
  },
  {
   "cell_type": "code",
   "execution_count": 327,
   "id": "d91d4987",
   "metadata": {},
   "outputs": [
    {
     "data": {
      "text/html": [
       "<div>\n",
       "<style scoped>\n",
       "    .dataframe tbody tr th:only-of-type {\n",
       "        vertical-align: middle;\n",
       "    }\n",
       "\n",
       "    .dataframe tbody tr th {\n",
       "        vertical-align: top;\n",
       "    }\n",
       "\n",
       "    .dataframe thead th {\n",
       "        text-align: right;\n",
       "    }\n",
       "</style>\n",
       "<table border=\"1\" class=\"dataframe\">\n",
       "  <thead>\n",
       "    <tr style=\"text-align: right;\">\n",
       "      <th></th>\n",
       "      <th>mpg</th>\n",
       "      <th>cylinders</th>\n",
       "      <th>displacement</th>\n",
       "      <th>horsepower</th>\n",
       "      <th>weight</th>\n",
       "      <th>acceleration</th>\n",
       "      <th>year</th>\n",
       "      <th>origin</th>\n",
       "    </tr>\n",
       "  </thead>\n",
       "  <tbody>\n",
       "    <tr>\n",
       "      <th>count</th>\n",
       "      <td>392.000000</td>\n",
       "      <td>392.000000</td>\n",
       "      <td>392.000000</td>\n",
       "      <td>392.000000</td>\n",
       "      <td>392.000000</td>\n",
       "      <td>391.000000</td>\n",
       "      <td>390.000000</td>\n",
       "      <td>392.000000</td>\n",
       "    </tr>\n",
       "    <tr>\n",
       "      <th>mean</th>\n",
       "      <td>23.445918</td>\n",
       "      <td>5.471939</td>\n",
       "      <td>194.411990</td>\n",
       "      <td>104.469388</td>\n",
       "      <td>2977.584184</td>\n",
       "      <td>15.554220</td>\n",
       "      <td>76.010256</td>\n",
       "      <td>1.576531</td>\n",
       "    </tr>\n",
       "    <tr>\n",
       "      <th>std</th>\n",
       "      <td>7.805007</td>\n",
       "      <td>1.705783</td>\n",
       "      <td>104.644004</td>\n",
       "      <td>38.491160</td>\n",
       "      <td>849.402560</td>\n",
       "      <td>2.750548</td>\n",
       "      <td>3.668093</td>\n",
       "      <td>0.805518</td>\n",
       "    </tr>\n",
       "    <tr>\n",
       "      <th>min</th>\n",
       "      <td>9.000000</td>\n",
       "      <td>3.000000</td>\n",
       "      <td>68.000000</td>\n",
       "      <td>46.000000</td>\n",
       "      <td>1613.000000</td>\n",
       "      <td>8.000000</td>\n",
       "      <td>70.000000</td>\n",
       "      <td>1.000000</td>\n",
       "    </tr>\n",
       "    <tr>\n",
       "      <th>25%</th>\n",
       "      <td>17.000000</td>\n",
       "      <td>4.000000</td>\n",
       "      <td>105.000000</td>\n",
       "      <td>75.000000</td>\n",
       "      <td>2225.250000</td>\n",
       "      <td>13.800000</td>\n",
       "      <td>73.000000</td>\n",
       "      <td>1.000000</td>\n",
       "    </tr>\n",
       "    <tr>\n",
       "      <th>50%</th>\n",
       "      <td>22.750000</td>\n",
       "      <td>4.000000</td>\n",
       "      <td>151.000000</td>\n",
       "      <td>93.500000</td>\n",
       "      <td>2803.500000</td>\n",
       "      <td>15.500000</td>\n",
       "      <td>76.000000</td>\n",
       "      <td>1.000000</td>\n",
       "    </tr>\n",
       "    <tr>\n",
       "      <th>75%</th>\n",
       "      <td>29.000000</td>\n",
       "      <td>8.000000</td>\n",
       "      <td>275.750000</td>\n",
       "      <td>126.000000</td>\n",
       "      <td>3614.750000</td>\n",
       "      <td>17.050000</td>\n",
       "      <td>79.000000</td>\n",
       "      <td>2.000000</td>\n",
       "    </tr>\n",
       "    <tr>\n",
       "      <th>max</th>\n",
       "      <td>46.600000</td>\n",
       "      <td>8.000000</td>\n",
       "      <td>455.000000</td>\n",
       "      <td>230.000000</td>\n",
       "      <td>5140.000000</td>\n",
       "      <td>24.800000</td>\n",
       "      <td>82.000000</td>\n",
       "      <td>3.000000</td>\n",
       "    </tr>\n",
       "  </tbody>\n",
       "</table>\n",
       "</div>"
      ],
      "text/plain": [
       "              mpg   cylinders  displacement  horsepower       weight  \\\n",
       "count  392.000000  392.000000    392.000000  392.000000   392.000000   \n",
       "mean    23.445918    5.471939    194.411990  104.469388  2977.584184   \n",
       "std      7.805007    1.705783    104.644004   38.491160   849.402560   \n",
       "min      9.000000    3.000000     68.000000   46.000000  1613.000000   \n",
       "25%     17.000000    4.000000    105.000000   75.000000  2225.250000   \n",
       "50%     22.750000    4.000000    151.000000   93.500000  2803.500000   \n",
       "75%     29.000000    8.000000    275.750000  126.000000  3614.750000   \n",
       "max     46.600000    8.000000    455.000000  230.000000  5140.000000   \n",
       "\n",
       "       acceleration        year      origin  \n",
       "count    391.000000  390.000000  392.000000  \n",
       "mean      15.554220   76.010256    1.576531  \n",
       "std        2.750548    3.668093    0.805518  \n",
       "min        8.000000   70.000000    1.000000  \n",
       "25%       13.800000   73.000000    1.000000  \n",
       "50%       15.500000   76.000000    1.000000  \n",
       "75%       17.050000   79.000000    2.000000  \n",
       "max       24.800000   82.000000    3.000000  "
      ]
     },
     "execution_count": 327,
     "metadata": {},
     "output_type": "execute_result"
    }
   ],
   "source": [
    "data.describe()"
   ]
  },
  {
   "cell_type": "markdown",
   "id": "adc446fa",
   "metadata": {},
   "source": [
    "The mpg value ranges from 9 mpg (min) to 46.60 mpg (max) which makes an average of 23.445918. \n",
    "\n",
    "The cylinder value ranges from 3 cylinders (min) to 8 cylinders (max) which makes an average of 5.471939.\n",
    "\n",
    "The displacement ranges from 68 (min) to 455 (max) which makes an average of 194.411990.\n",
    "\n",
    "The horsepower ranges from 46(min) to 230 (max) which makes an average of 104.469388.\n",
    "\n",
    "The weight ranges from 1613 (min) to 5140 (max) which makes an average of 2977.584184.\n",
    "\n",
    "The acceleration ranges from 8 (min) to 24.80(max) which makes an average of 15.554220.\n",
    "\n",
    "The year ranges from 70 (min) to 82 (max) which makes an average of 76.010256.\n",
    "\n",
    "The origin ranges from 1 (min) to 3 (max) which makes an average of 1.576531."
   ]
  },
  {
   "cell_type": "markdown",
   "id": "47b70009",
   "metadata": {},
   "source": [
    "### Checking datatypes of the columns"
   ]
  },
  {
   "cell_type": "code",
   "execution_count": 328,
   "id": "f3b23622",
   "metadata": {},
   "outputs": [
    {
     "data": {
      "text/plain": [
       "mpg             float64\n",
       "cylinders         int64\n",
       "displacement    float64\n",
       "horsepower        int64\n",
       "weight            int64\n",
       "acceleration    float64\n",
       "year            float64\n",
       "origin            int64\n",
       "name             object\n",
       "dtype: object"
      ]
     },
     "execution_count": 328,
     "metadata": {},
     "output_type": "execute_result"
    }
   ],
   "source": [
    "data.dtypes"
   ]
  },
  {
   "cell_type": "markdown",
   "id": "8e33e842",
   "metadata": {},
   "source": [
    "### Converting Cylinder column into categorical"
   ]
  },
  {
   "cell_type": "code",
   "execution_count": 329,
   "id": "2539ba98",
   "metadata": {},
   "outputs": [
    {
     "data": {
      "text/html": [
       "<div>\n",
       "<style scoped>\n",
       "    .dataframe tbody tr th:only-of-type {\n",
       "        vertical-align: middle;\n",
       "    }\n",
       "\n",
       "    .dataframe tbody tr th {\n",
       "        vertical-align: top;\n",
       "    }\n",
       "\n",
       "    .dataframe thead th {\n",
       "        text-align: right;\n",
       "    }\n",
       "</style>\n",
       "<table border=\"1\" class=\"dataframe\">\n",
       "  <thead>\n",
       "    <tr style=\"text-align: right;\">\n",
       "      <th></th>\n",
       "      <th>mpg</th>\n",
       "      <th>cylinders</th>\n",
       "      <th>displacement</th>\n",
       "      <th>horsepower</th>\n",
       "      <th>weight</th>\n",
       "      <th>acceleration</th>\n",
       "      <th>year</th>\n",
       "      <th>origin</th>\n",
       "      <th>name</th>\n",
       "    </tr>\n",
       "  </thead>\n",
       "  <tbody>\n",
       "    <tr>\n",
       "      <th>0</th>\n",
       "      <td>18.0</td>\n",
       "      <td>8</td>\n",
       "      <td>307.0</td>\n",
       "      <td>130</td>\n",
       "      <td>3504</td>\n",
       "      <td>12.0</td>\n",
       "      <td>70.0</td>\n",
       "      <td>1</td>\n",
       "      <td>chevrolet chevelle malibu</td>\n",
       "    </tr>\n",
       "    <tr>\n",
       "      <th>1</th>\n",
       "      <td>15.0</td>\n",
       "      <td>8</td>\n",
       "      <td>350.0</td>\n",
       "      <td>165</td>\n",
       "      <td>3693</td>\n",
       "      <td>11.5</td>\n",
       "      <td>70.0</td>\n",
       "      <td>1</td>\n",
       "      <td>buick skylark 320</td>\n",
       "    </tr>\n",
       "    <tr>\n",
       "      <th>2</th>\n",
       "      <td>18.0</td>\n",
       "      <td>8</td>\n",
       "      <td>318.0</td>\n",
       "      <td>150</td>\n",
       "      <td>3436</td>\n",
       "      <td>11.0</td>\n",
       "      <td>70.0</td>\n",
       "      <td>1</td>\n",
       "      <td>plymouth satellite</td>\n",
       "    </tr>\n",
       "    <tr>\n",
       "      <th>3</th>\n",
       "      <td>16.0</td>\n",
       "      <td>8</td>\n",
       "      <td>304.0</td>\n",
       "      <td>150</td>\n",
       "      <td>3433</td>\n",
       "      <td>12.0</td>\n",
       "      <td>70.0</td>\n",
       "      <td>1</td>\n",
       "      <td>amc rebel sst</td>\n",
       "    </tr>\n",
       "    <tr>\n",
       "      <th>4</th>\n",
       "      <td>17.0</td>\n",
       "      <td>8</td>\n",
       "      <td>302.0</td>\n",
       "      <td>140</td>\n",
       "      <td>3449</td>\n",
       "      <td>NaN</td>\n",
       "      <td>70.0</td>\n",
       "      <td>1</td>\n",
       "      <td>ford torino</td>\n",
       "    </tr>\n",
       "  </tbody>\n",
       "</table>\n",
       "</div>"
      ],
      "text/plain": [
       "    mpg cylinders  displacement  horsepower  weight  acceleration  year  \\\n",
       "0  18.0         8         307.0         130    3504          12.0  70.0   \n",
       "1  15.0         8         350.0         165    3693          11.5  70.0   \n",
       "2  18.0         8         318.0         150    3436          11.0  70.0   \n",
       "3  16.0         8         304.0         150    3433          12.0  70.0   \n",
       "4  17.0         8         302.0         140    3449           NaN  70.0   \n",
       "\n",
       "   origin                       name  \n",
       "0       1  chevrolet chevelle malibu  \n",
       "1       1          buick skylark 320  \n",
       "2       1         plymouth satellite  \n",
       "3       1              amc rebel sst  \n",
       "4       1                ford torino  "
      ]
     },
     "execution_count": 329,
     "metadata": {},
     "output_type": "execute_result"
    }
   ],
   "source": [
    "data['cylinders'] = data['cylinders'].astype('category')\n",
    "#data['cylinders'] = data['cylinders'].cat.codes\n",
    "data.head()"
   ]
  },
  {
   "cell_type": "markdown",
   "id": "7559d2d3",
   "metadata": {},
   "source": [
    "#### Verifying datatypes of Column"
   ]
  },
  {
   "cell_type": "code",
   "execution_count": 330,
   "id": "8c6687c0",
   "metadata": {},
   "outputs": [
    {
     "data": {
      "text/plain": [
       "mpg              float64\n",
       "cylinders       category\n",
       "displacement     float64\n",
       "horsepower         int64\n",
       "weight             int64\n",
       "acceleration     float64\n",
       "year             float64\n",
       "origin             int64\n",
       "name              object\n",
       "dtype: object"
      ]
     },
     "execution_count": 330,
     "metadata": {},
     "output_type": "execute_result"
    }
   ],
   "source": [
    "#Checking the datatypes of all columns\n",
    "data.dtypes\n"
   ]
  },
  {
   "cell_type": "code",
   "execution_count": null,
   "id": "c9a773dd",
   "metadata": {},
   "outputs": [],
   "source": []
  },
  {
   "cell_type": "markdown",
   "id": "e1e330ca",
   "metadata": {},
   "source": [
    "### Converting Origin Column into categorical"
   ]
  },
  {
   "cell_type": "code",
   "execution_count": 331,
   "id": "5bca8521",
   "metadata": {},
   "outputs": [],
   "source": [
    "data['origin'] = pd.Categorical(data.origin)"
   ]
  },
  {
   "cell_type": "markdown",
   "id": "a8342023",
   "metadata": {},
   "source": [
    "\n",
    "#### Veryfing datatypes of Column"
   ]
  },
  {
   "cell_type": "code",
   "execution_count": 332,
   "id": "bf79b5d1",
   "metadata": {},
   "outputs": [
    {
     "data": {
      "text/plain": [
       "mpg              float64\n",
       "cylinders       category\n",
       "displacement     float64\n",
       "horsepower         int64\n",
       "weight             int64\n",
       "acceleration     float64\n",
       "year             float64\n",
       "origin          category\n",
       "name              object\n",
       "dtype: object"
      ]
     },
     "execution_count": 332,
     "metadata": {},
     "output_type": "execute_result"
    }
   ],
   "source": [
    "#Checking the datatypes of all columns\n",
    "data.dtypes"
   ]
  },
  {
   "cell_type": "markdown",
   "id": "73a6d12d",
   "metadata": {},
   "source": [
    "### Dealing with NA's"
   ]
  },
  {
   "cell_type": "markdown",
   "id": "1b9d518f",
   "metadata": {},
   "source": [
    "#### Dropping row with NA's"
   ]
  },
  {
   "cell_type": "code",
   "execution_count": 333,
   "id": "1badcda9",
   "metadata": {},
   "outputs": [],
   "source": [
    "data = data.dropna()"
   ]
  },
  {
   "cell_type": "markdown",
   "id": "bfbaff31",
   "metadata": {},
   "source": [
    "#### Resetting index after dropping rows with NA's"
   ]
  },
  {
   "cell_type": "code",
   "execution_count": 334,
   "id": "4640e5c7",
   "metadata": {},
   "outputs": [],
   "source": [
    "data = data.reset_index(drop = True)"
   ]
  },
  {
   "cell_type": "markdown",
   "id": "df9ba474",
   "metadata": {},
   "source": [
    "#### New Dimension After Deleting rows with NA's"
   ]
  },
  {
   "cell_type": "code",
   "execution_count": 335,
   "id": "2ddd7c0f",
   "metadata": {},
   "outputs": [
    {
     "name": "stdout",
     "output_type": "stream",
     "text": [
      "Number of Rows:  389\n",
      "Number of Columns:  9\n"
     ]
    }
   ],
   "source": [
    "print(\"Number of Rows: \",len(data))\n",
    "print(\"Number of Columns: \", len(data.columns))"
   ]
  },
  {
   "cell_type": "markdown",
   "id": "a4009ef0",
   "metadata": {},
   "source": [
    "#### New Data information after dropping rows with NA's"
   ]
  },
  {
   "cell_type": "code",
   "execution_count": 336,
   "id": "9030e88c",
   "metadata": {},
   "outputs": [
    {
     "name": "stdout",
     "output_type": "stream",
     "text": [
      "<class 'pandas.core.frame.DataFrame'>\n",
      "RangeIndex: 389 entries, 0 to 388\n",
      "Data columns (total 9 columns):\n",
      " #   Column        Non-Null Count  Dtype   \n",
      "---  ------        --------------  -----   \n",
      " 0   mpg           389 non-null    float64 \n",
      " 1   cylinders     389 non-null    category\n",
      " 2   displacement  389 non-null    float64 \n",
      " 3   horsepower    389 non-null    int64   \n",
      " 4   weight        389 non-null    int64   \n",
      " 5   acceleration  389 non-null    float64 \n",
      " 6   year          389 non-null    float64 \n",
      " 7   origin        389 non-null    category\n",
      " 8   name          389 non-null    object  \n",
      "dtypes: category(2), float64(4), int64(2), object(1)\n",
      "memory usage: 22.5+ KB\n"
     ]
    }
   ],
   "source": [
    "data.info()"
   ]
  },
  {
   "cell_type": "markdown",
   "id": "d4d3f84c",
   "metadata": {},
   "source": [
    "### Modification Of  Columns"
   ]
  },
  {
   "cell_type": "code",
   "execution_count": 337,
   "id": "a64c9bd3",
   "metadata": {},
   "outputs": [],
   "source": [
    "data['mpg_high'] = np.where(data[\"mpg\"] > data['mpg'].mean(), 1,0) "
   ]
  },
  {
   "cell_type": "markdown",
   "id": "5bbfa8b2",
   "metadata": {},
   "source": [
    "#### Converting mpg_high into Category"
   ]
  },
  {
   "cell_type": "code",
   "execution_count": 338,
   "id": "31e86bdb",
   "metadata": {},
   "outputs": [],
   "source": [
    "data['mpg_high'] = pd.Categorical(data.mpg_high)\n"
   ]
  },
  {
   "cell_type": "code",
   "execution_count": 339,
   "id": "01c6bd56",
   "metadata": {},
   "outputs": [
    {
     "data": {
      "text/plain": [
       "mpg              float64\n",
       "cylinders       category\n",
       "displacement     float64\n",
       "horsepower         int64\n",
       "weight             int64\n",
       "acceleration     float64\n",
       "year             float64\n",
       "origin          category\n",
       "name              object\n",
       "mpg_high        category\n",
       "dtype: object"
      ]
     },
     "execution_count": 339,
     "metadata": {},
     "output_type": "execute_result"
    }
   ],
   "source": [
    "data.dtypes"
   ]
  },
  {
   "cell_type": "markdown",
   "id": "09f4e533",
   "metadata": {},
   "source": [
    "#### Deleting mpg column"
   ]
  },
  {
   "cell_type": "code",
   "execution_count": 340,
   "id": "4bc8f7ed",
   "metadata": {},
   "outputs": [],
   "source": [
    "del data['mpg']"
   ]
  },
  {
   "cell_type": "markdown",
   "id": "215e4a70",
   "metadata": {},
   "source": [
    "#### Printing few rows after deleting mpg"
   ]
  },
  {
   "cell_type": "code",
   "execution_count": 341,
   "id": "8930b92d",
   "metadata": {},
   "outputs": [
    {
     "data": {
      "text/html": [
       "<div>\n",
       "<style scoped>\n",
       "    .dataframe tbody tr th:only-of-type {\n",
       "        vertical-align: middle;\n",
       "    }\n",
       "\n",
       "    .dataframe tbody tr th {\n",
       "        vertical-align: top;\n",
       "    }\n",
       "\n",
       "    .dataframe thead th {\n",
       "        text-align: right;\n",
       "    }\n",
       "</style>\n",
       "<table border=\"1\" class=\"dataframe\">\n",
       "  <thead>\n",
       "    <tr style=\"text-align: right;\">\n",
       "      <th></th>\n",
       "      <th>cylinders</th>\n",
       "      <th>displacement</th>\n",
       "      <th>horsepower</th>\n",
       "      <th>weight</th>\n",
       "      <th>acceleration</th>\n",
       "      <th>year</th>\n",
       "      <th>origin</th>\n",
       "      <th>name</th>\n",
       "      <th>mpg_high</th>\n",
       "    </tr>\n",
       "  </thead>\n",
       "  <tbody>\n",
       "    <tr>\n",
       "      <th>0</th>\n",
       "      <td>8</td>\n",
       "      <td>307.0</td>\n",
       "      <td>130</td>\n",
       "      <td>3504</td>\n",
       "      <td>12.0</td>\n",
       "      <td>70.0</td>\n",
       "      <td>1</td>\n",
       "      <td>chevrolet chevelle malibu</td>\n",
       "      <td>0</td>\n",
       "    </tr>\n",
       "    <tr>\n",
       "      <th>1</th>\n",
       "      <td>8</td>\n",
       "      <td>350.0</td>\n",
       "      <td>165</td>\n",
       "      <td>3693</td>\n",
       "      <td>11.5</td>\n",
       "      <td>70.0</td>\n",
       "      <td>1</td>\n",
       "      <td>buick skylark 320</td>\n",
       "      <td>0</td>\n",
       "    </tr>\n",
       "    <tr>\n",
       "      <th>2</th>\n",
       "      <td>8</td>\n",
       "      <td>318.0</td>\n",
       "      <td>150</td>\n",
       "      <td>3436</td>\n",
       "      <td>11.0</td>\n",
       "      <td>70.0</td>\n",
       "      <td>1</td>\n",
       "      <td>plymouth satellite</td>\n",
       "      <td>0</td>\n",
       "    </tr>\n",
       "    <tr>\n",
       "      <th>3</th>\n",
       "      <td>8</td>\n",
       "      <td>304.0</td>\n",
       "      <td>150</td>\n",
       "      <td>3433</td>\n",
       "      <td>12.0</td>\n",
       "      <td>70.0</td>\n",
       "      <td>1</td>\n",
       "      <td>amc rebel sst</td>\n",
       "      <td>0</td>\n",
       "    </tr>\n",
       "    <tr>\n",
       "      <th>4</th>\n",
       "      <td>8</td>\n",
       "      <td>454.0</td>\n",
       "      <td>220</td>\n",
       "      <td>4354</td>\n",
       "      <td>9.0</td>\n",
       "      <td>70.0</td>\n",
       "      <td>1</td>\n",
       "      <td>chevrolet impala</td>\n",
       "      <td>0</td>\n",
       "    </tr>\n",
       "    <tr>\n",
       "      <th>...</th>\n",
       "      <td>...</td>\n",
       "      <td>...</td>\n",
       "      <td>...</td>\n",
       "      <td>...</td>\n",
       "      <td>...</td>\n",
       "      <td>...</td>\n",
       "      <td>...</td>\n",
       "      <td>...</td>\n",
       "      <td>...</td>\n",
       "    </tr>\n",
       "    <tr>\n",
       "      <th>384</th>\n",
       "      <td>4</td>\n",
       "      <td>140.0</td>\n",
       "      <td>86</td>\n",
       "      <td>2790</td>\n",
       "      <td>15.6</td>\n",
       "      <td>82.0</td>\n",
       "      <td>1</td>\n",
       "      <td>ford mustang gl</td>\n",
       "      <td>1</td>\n",
       "    </tr>\n",
       "    <tr>\n",
       "      <th>385</th>\n",
       "      <td>4</td>\n",
       "      <td>97.0</td>\n",
       "      <td>52</td>\n",
       "      <td>2130</td>\n",
       "      <td>24.6</td>\n",
       "      <td>82.0</td>\n",
       "      <td>2</td>\n",
       "      <td>vw pickup</td>\n",
       "      <td>1</td>\n",
       "    </tr>\n",
       "    <tr>\n",
       "      <th>386</th>\n",
       "      <td>4</td>\n",
       "      <td>135.0</td>\n",
       "      <td>84</td>\n",
       "      <td>2295</td>\n",
       "      <td>11.6</td>\n",
       "      <td>82.0</td>\n",
       "      <td>1</td>\n",
       "      <td>dodge rampage</td>\n",
       "      <td>1</td>\n",
       "    </tr>\n",
       "    <tr>\n",
       "      <th>387</th>\n",
       "      <td>4</td>\n",
       "      <td>120.0</td>\n",
       "      <td>79</td>\n",
       "      <td>2625</td>\n",
       "      <td>18.6</td>\n",
       "      <td>82.0</td>\n",
       "      <td>1</td>\n",
       "      <td>ford ranger</td>\n",
       "      <td>1</td>\n",
       "    </tr>\n",
       "    <tr>\n",
       "      <th>388</th>\n",
       "      <td>4</td>\n",
       "      <td>119.0</td>\n",
       "      <td>82</td>\n",
       "      <td>2720</td>\n",
       "      <td>19.4</td>\n",
       "      <td>82.0</td>\n",
       "      <td>1</td>\n",
       "      <td>chevy s-10</td>\n",
       "      <td>1</td>\n",
       "    </tr>\n",
       "  </tbody>\n",
       "</table>\n",
       "<p>389 rows × 9 columns</p>\n",
       "</div>"
      ],
      "text/plain": [
       "    cylinders  displacement  horsepower  weight  acceleration  year origin  \\\n",
       "0           8         307.0         130    3504          12.0  70.0      1   \n",
       "1           8         350.0         165    3693          11.5  70.0      1   \n",
       "2           8         318.0         150    3436          11.0  70.0      1   \n",
       "3           8         304.0         150    3433          12.0  70.0      1   \n",
       "4           8         454.0         220    4354           9.0  70.0      1   \n",
       "..        ...           ...         ...     ...           ...   ...    ...   \n",
       "384         4         140.0          86    2790          15.6  82.0      1   \n",
       "385         4          97.0          52    2130          24.6  82.0      2   \n",
       "386         4         135.0          84    2295          11.6  82.0      1   \n",
       "387         4         120.0          79    2625          18.6  82.0      1   \n",
       "388         4         119.0          82    2720          19.4  82.0      1   \n",
       "\n",
       "                          name mpg_high  \n",
       "0    chevrolet chevelle malibu        0  \n",
       "1            buick skylark 320        0  \n",
       "2           plymouth satellite        0  \n",
       "3                amc rebel sst        0  \n",
       "4             chevrolet impala        0  \n",
       "..                         ...      ...  \n",
       "384            ford mustang gl        1  \n",
       "385                  vw pickup        1  \n",
       "386              dodge rampage        1  \n",
       "387                ford ranger        1  \n",
       "388                 chevy s-10        1  \n",
       "\n",
       "[389 rows x 9 columns]"
      ]
     },
     "execution_count": 341,
     "metadata": {},
     "output_type": "execute_result"
    }
   ],
   "source": [
    "data"
   ]
  },
  {
   "cell_type": "markdown",
   "id": "8f378c52",
   "metadata": {},
   "source": [
    "## Data Exploration With Seaborn"
   ]
  },
  {
   "cell_type": "markdown",
   "id": "60fbf000",
   "metadata": {},
   "source": [
    "#### Seaborn Catplot"
   ]
  },
  {
   "cell_type": "code",
   "execution_count": 342,
   "id": "efe254a8",
   "metadata": {},
   "outputs": [
    {
     "data": {
      "image/png": "[encoded data removed]",
      "text/plain": [
       "<Figure size 360x360 with 1 Axes>"
      ]
     },
     "metadata": {
      "needs_background": "light"
     },
     "output_type": "display_data"
    }
   ],
   "source": [
    "g = sns.catplot(x=\"mpg_high\",\n",
    "                 kind = \"count\",\n",
    "                data= data)"
   ]
  },
  {
   "cell_type": "markdown",
   "id": "498f0ce2",
   "metadata": {},
   "source": [
    "#### Seaborn relplot"
   ]
  },
  {
   "cell_type": "code",
   "execution_count": 343,
   "id": "4b6f182a",
   "metadata": {},
   "outputs": [
    {
     "data": {
      "image/png": "[encoded data removed]",
      "text/plain": [
       "<Figure size 417.25x360 with 1 Axes>"
      ]
     },
     "metadata": {
      "needs_background": "light"
     },
     "output_type": "display_data"
    }
   ],
   "source": [
    "f = sns.relplot(data= data, x='horsepower' , y = 'weight', hue = 'mpg_high' )"
   ]
  },
  {
   "cell_type": "markdown",
   "id": "ff53c6e5",
   "metadata": {},
   "source": [
    "#### Seaborn boxplot "
   ]
  },
  {
   "cell_type": "code",
   "execution_count": 344,
   "id": "49169dce",
   "metadata": {},
   "outputs": [
    {
     "data": {
      "text/plain": [
       "<AxesSubplot:xlabel='mpg_high', ylabel='weight'>"
      ]
     },
     "execution_count": 344,
     "metadata": {},
     "output_type": "execute_result"
    },
    {
     "data": {
      "image/png": "[encoded data removed]",
      "text/plain": [
       "<Figure size 432x288 with 1 Axes>"
      ]
     },
     "metadata": {
      "needs_background": "light"
     },
     "output_type": "display_data"
    }
   ],
   "source": [
    "\n",
    "sns.boxplot(x=\"mpg_high\",\n",
    "                y=\"weight\",\n",
    "                data=data)"
   ]
  },
  {
   "cell_type": "markdown",
   "id": "542a49cf",
   "metadata": {},
   "source": [
    "### Lesson Learned from the graphs"
   ]
  },
  {
   "cell_type": "markdown",
   "id": "1dfb8c28",
   "metadata": {},
   "source": [
    "Seaborn Catplot: It shows the count of the two values of mgp_high. The data seems to be pretty good based on\n",
    "                 division between two classes of mpg_high which are 0 and 1\n",
    "        \n",
    "Sns relplot: The graph of relplot shows that there is some kind of linear relationship between horsepower and \n",
    "                weight of vehicles. Also, vehicles with low 0 mgp_high have high horsepower and more weight. This clarifys\n",
    "                that vehicle with less weight and less horsepower have more mpg.\n",
    "            \n",
    "Sns Boxplot:  From the above boxplot, it can be seen that median lies in in between 3000 to 4000 when mpg_high =0 and\n",
    "                lies between 2000 to 2500 when mpg_high = 1. Also, data with mpg high == 1 has some outliers. \n"
   ]
  },
  {
   "cell_type": "markdown",
   "id": "e20aa288",
   "metadata": {},
   "source": [
    "### Label Encoding for string and Category datatypes"
   ]
  },
  {
   "cell_type": "code",
   "execution_count": 345,
   "id": "10a9b9f3",
   "metadata": {},
   "outputs": [],
   "source": [
    "from sklearn import preprocessing\n",
    "def label_encoder(df):\n",
    "    columnsForEncoding = list(df.select_dtypes(include=['category','object']))\n",
    "    encoder = preprocessing.LabelEncoder()\n",
    "    for column in columnsForEncoding:\n",
    "        df[column] = encoder.fit_transform(df[column])\n",
    "    return df\n",
    "data = label_encoder(data);"
   ]
  },
  {
   "cell_type": "markdown",
   "id": "4552adcc",
   "metadata": {},
   "source": [
    "### Spiliting into Train and Test"
   ]
  },
  {
   "cell_type": "markdown",
   "id": "a2e8798b",
   "metadata": {},
   "source": [
    "#### Columns without mpg_high"
   ]
  },
  {
   "cell_type": "code",
   "execution_count": 346,
   "id": "23919ad9",
   "metadata": {},
   "outputs": [],
   "source": [
    "data_without_label = data.loc[:, data.columns != 'mpg_high']\n"
   ]
  },
  {
   "cell_type": "markdown",
   "id": "cbdcf806",
   "metadata": {},
   "source": [
    "#### Spliting data into train and test"
   ]
  },
  {
   "cell_type": "code",
   "execution_count": 347,
   "id": "ce20d37e",
   "metadata": {},
   "outputs": [],
   "source": [
    "from sklearn.model_selection import train_test_split\n",
    "X_train, X_test, y_train, y_test = train_test_split(data_without_label,data['mpg_high'], random_state=1234, train_size = .80)"
   ]
  },
  {
   "cell_type": "markdown",
   "id": "1493715f",
   "metadata": {},
   "source": [
    "#### Dimensions of Test and train"
   ]
  },
  {
   "cell_type": "code",
   "execution_count": 348,
   "id": "7367e455",
   "metadata": {},
   "outputs": [
    {
     "name": "stdout",
     "output_type": "stream",
     "text": [
      "Number of Rows of Train:  311\n",
      "Number of Columns Train :  8\n",
      "Number of rows of trainLabels:  311\n",
      "Number of Rows of Test:  78\n",
      "Number of Columns of Test :  8\n",
      "Number of rows of testLabels:  78\n"
     ]
    }
   ],
   "source": [
    "print(\"Number of Rows of Train: \",len(X_train))\n",
    "print(\"Number of Columns Train : \", len(X_train.columns))\n",
    "print(\"Number of rows of trainLabels: \", len(y_train))\n",
    "\n",
    "print(\"Number of Rows of Test: \",len(X_test))\n",
    "print(\"Number of Columns of Test : \", len(X_test.columns))\n",
    "print(\"Number of rows of testLabels: \", len(y_test))"
   ]
  },
  {
   "cell_type": "markdown",
   "id": "dc2b8951",
   "metadata": {},
   "source": []
  },
  {
   "cell_type": "code",
   "execution_count": 349,
   "id": "7692b6cb",
   "metadata": {},
   "outputs": [],
   "source": [
    "from sklearn.preprocessing import StandardScaler\n",
    "sc = StandardScaler()\n",
    "X_train = sc.fit_transform(X_train)\n",
    "X_test = sc.transform(X_test)"
   ]
  },
  {
   "cell_type": "markdown",
   "id": "f36f1040",
   "metadata": {},
   "source": [
    "## Logistic Regression"
   ]
  },
  {
   "cell_type": "code",
   "execution_count": 350,
   "id": "6a474632",
   "metadata": {},
   "outputs": [],
   "source": [
    "from sklearn.linear_model import LogisticRegression\n"
   ]
  },
  {
   "cell_type": "code",
   "execution_count": 351,
   "id": "e4e6086f",
   "metadata": {},
   "outputs": [],
   "source": [
    "logRegression = LogisticRegression(solver = \"lbfgs\")"
   ]
  },
  {
   "cell_type": "code",
   "execution_count": 352,
   "id": "85da3b8d",
   "metadata": {},
   "outputs": [
    {
     "data": {
      "text/plain": [
       "LogisticRegression()"
      ]
     },
     "execution_count": 352,
     "metadata": {},
     "output_type": "execute_result"
    }
   ],
   "source": [
    "logRegression.fit(X_train, y_train)"
   ]
  },
  {
   "cell_type": "code",
   "execution_count": 353,
   "id": "e70b73dc",
   "metadata": {},
   "outputs": [
    {
     "name": "stdout",
     "output_type": "stream",
     "text": [
      "The Accuracy for Test dataset is 88.46153846153845\n"
     ]
    }
   ],
   "source": [
    "predicted_value = logRegression.predict(X_test)\n",
    "test_accuracy = accuracy_score(y_test, predicted_value)\n",
    "print(\"The Accuracy for Test dataset is {}\".format(test_accuracy*100))"
   ]
  },
  {
   "cell_type": "code",
   "execution_count": 354,
   "id": "f6c85061",
   "metadata": {},
   "outputs": [
    {
     "name": "stdout",
     "output_type": "stream",
     "text": [
      "              precision    recall  f1-score   support\n",
      "\n",
      "           0       0.84      0.98      0.90        43\n",
      "           1       0.96      0.77      0.86        35\n",
      "\n",
      "    accuracy                           0.88        78\n",
      "   macro avg       0.90      0.87      0.88        78\n",
      "weighted avg       0.90      0.88      0.88        78\n",
      "\n"
     ]
    }
   ],
   "source": [
    "print(classification_report(predicted_value,y_test))"
   ]
  },
  {
   "cell_type": "markdown",
   "id": "a8a49b6a",
   "metadata": {},
   "source": [
    "## Decision Tree"
   ]
  },
  {
   "cell_type": "markdown",
   "id": "d51ec9e5",
   "metadata": {},
   "source": [
    "#### Decision Tree With Gini"
   ]
  },
  {
   "cell_type": "code",
   "execution_count": 355,
   "id": "c73a3c61",
   "metadata": {},
   "outputs": [
    {
     "data": {
      "text/plain": [
       "DecisionTreeClassifier(max_depth=3, min_samples_leaf=5, random_state=100)"
      ]
     },
     "execution_count": 355,
     "metadata": {},
     "output_type": "execute_result"
    }
   ],
   "source": [
    " Decision_tree_with_gini = DecisionTreeClassifier(criterion = \"gini\",\n",
    "            random_state = 100,max_depth=3, min_samples_leaf=5)\n",
    "  \n",
    "    # Performing training\n",
    "Decision_tree_with_gini.fit(X_train, y_train)"
   ]
  },
  {
   "cell_type": "code",
   "execution_count": 356,
   "id": "ff9e9e0b",
   "metadata": {},
   "outputs": [],
   "source": [
    "predicted_value = Decision_tree_with_gini.predict(X_test);"
   ]
  },
  {
   "cell_type": "code",
   "execution_count": 357,
   "id": "5891d8c7",
   "metadata": {},
   "outputs": [
    {
     "name": "stdout",
     "output_type": "stream",
     "text": [
      "              precision    recall  f1-score   support\n",
      "\n",
      "           0       0.80      0.98      0.88        41\n",
      "           1       0.96      0.73      0.83        37\n",
      "\n",
      "    accuracy                           0.86        78\n",
      "   macro avg       0.88      0.85      0.85        78\n",
      "weighted avg       0.88      0.86      0.86        78\n",
      "\n"
     ]
    }
   ],
   "source": [
    "print(classification_report(predicted_value,y_test))"
   ]
  },
  {
   "cell_type": "code",
   "execution_count": 358,
   "id": "7c371953",
   "metadata": {},
   "outputs": [
    {
     "data": {
      "image/png": "[encoded data removed]",
      "text/plain": [
       "<Figure size 900x900 with 1 Axes>"
      ]
     },
     "metadata": {
      "needs_background": "light"
     },
     "output_type": "display_data"
    }
   ],
   "source": [
    "fig, axes = plt.subplots(nrows = 1,ncols = 1,figsize = (3,3), dpi=300)\n",
    "tree.plot_tree(Decision_tree_with_gini);"
   ]
  },
  {
   "cell_type": "markdown",
   "id": "52831fe5",
   "metadata": {},
   "source": [
    "#### Decision Tree with Entropy as criterion"
   ]
  },
  {
   "cell_type": "code",
   "execution_count": 359,
   "id": "fa2ea018",
   "metadata": {},
   "outputs": [
    {
     "data": {
      "text/plain": [
       "DecisionTreeClassifier(criterion='entropy', max_depth=3, min_samples_leaf=5,\n",
       "                       random_state=100)"
      ]
     },
     "execution_count": 359,
     "metadata": {},
     "output_type": "execute_result"
    }
   ],
   "source": [
    "Decision_tree_with_entropy = DecisionTreeClassifier(criterion = \"entropy\",\n",
    "            random_state = 100,max_depth=3, min_samples_leaf=5)\n",
    "  \n",
    "    # Performing training\n",
    "Decision_tree_with_entropy.fit(X_train, y_train)"
   ]
  },
  {
   "cell_type": "code",
   "execution_count": 360,
   "id": "d1a36818",
   "metadata": {},
   "outputs": [],
   "source": [
    "predicted_value = Decision_tree_with_entropy.predict(X_test);"
   ]
  },
  {
   "cell_type": "code",
   "execution_count": 361,
   "id": "c7c27953",
   "metadata": {},
   "outputs": [
    {
     "name": "stdout",
     "output_type": "stream",
     "text": [
      "              precision    recall  f1-score   support\n",
      "\n",
      "           0       0.92      0.94      0.93        49\n",
      "           1       0.89      0.86      0.88        29\n",
      "\n",
      "    accuracy                           0.91        78\n",
      "   macro avg       0.91      0.90      0.90        78\n",
      "weighted avg       0.91      0.91      0.91        78\n",
      "\n"
     ]
    }
   ],
   "source": [
    "print(classification_report(predicted_value,y_test))"
   ]
  },
  {
   "cell_type": "code",
   "execution_count": 362,
   "id": "8ffff0f3",
   "metadata": {},
   "outputs": [
    {
     "data": {
      "image/png": "[encoded data removed]",
      "text/plain": [
       "<Figure size 900x900 with 1 Axes>"
      ]
     },
     "metadata": {
      "needs_background": "light"
     },
     "output_type": "display_data"
    }
   ],
   "source": [
    "fig, axes = plt.subplots(nrows = 1,ncols = 1,figsize = (3,3), dpi=300)\n",
    "tree.plot_tree(Decision_tree_with_entropy);"
   ]
  },
  {
   "cell_type": "markdown",
   "id": "2e3dfc7a",
   "metadata": {},
   "source": [
    "## Neural Network"
   ]
  },
  {
   "cell_type": "code",
   "execution_count": 363,
   "id": "1ebfb240",
   "metadata": {},
   "outputs": [
    {
     "data": {
      "text/plain": [
       "MLPClassifier(hidden_layer_sizes=(389, 200, 100, 2), random_state=1,\n",
       "              solver='lbfgs')"
      ]
     },
     "execution_count": 363,
     "metadata": {},
     "output_type": "execute_result"
    }
   ],
   "source": [
    "neural_network = MLPClassifier(solver='lbfgs',activation = 'relu',\n",
    "                     hidden_layer_sizes=(389,200,100, 2), random_state=1)\n",
    "\n",
    "neural_network.fit(X_train, y_train)\n"
   ]
  },
  {
   "cell_type": "code",
   "execution_count": 364,
   "id": "1a8b2011",
   "metadata": {},
   "outputs": [
    {
     "name": "stdout",
     "output_type": "stream",
     "text": [
      "              precision    recall  f1-score   support\n",
      "\n",
      "           0       0.92      0.94      0.93        49\n",
      "           1       0.89      0.86      0.88        29\n",
      "\n",
      "    accuracy                           0.91        78\n",
      "   macro avg       0.91      0.90      0.90        78\n",
      "weighted avg       0.91      0.91      0.91        78\n",
      "\n"
     ]
    }
   ],
   "source": [
    "predicte_value=neural_network.predict(X_test)\n",
    "print(classification_report(predicted_value,y_test))"
   ]
  },
  {
   "cell_type": "code",
   "execution_count": 365,
   "id": "27e65b99",
   "metadata": {},
   "outputs": [
    {
     "data": {
      "text/plain": [
       "MLPClassifier(activation='tanh', hidden_layer_sizes=(389, 200, 100, 50, 25, 2),\n",
       "              random_state=1, solver='lbfgs')"
      ]
     },
     "execution_count": 365,
     "metadata": {},
     "output_type": "execute_result"
    }
   ],
   "source": [
    "neural_network1 = MLPClassifier(activation = 'tanh',solver='lbfgs',\n",
    "                     hidden_layer_sizes=(389,200,100,50,25,2), random_state=1)\n",
    "\n",
    "neural_network1.fit(X_train, y_train)"
   ]
  },
  {
   "cell_type": "code",
   "execution_count": 366,
   "id": "493b9e60",
   "metadata": {},
   "outputs": [
    {
     "name": "stdout",
     "output_type": "stream",
     "text": [
      "              precision    recall  f1-score   support\n",
      "\n",
      "           0       0.88      1.00      0.94        44\n",
      "           1       1.00      0.82      0.90        34\n",
      "\n",
      "    accuracy                           0.92        78\n",
      "   macro avg       0.94      0.91      0.92        78\n",
      "weighted avg       0.93      0.92      0.92        78\n",
      "\n"
     ]
    }
   ],
   "source": [
    "predict_value=neural_network1.predict(X_test)\n",
    "print(classification_report(predict_value,y_test))"
   ]
  },
  {
   "cell_type": "markdown",
   "id": "7c14f9e9",
   "metadata": {},
   "source": [
    "#### Comparison between two neural Networks"
   ]
  },
  {
   "cell_type": "markdown",
   "id": "c6a94dd0",
   "metadata": {},
   "source": [
    "For the first model, I used relu as the activation function and hidden layers with  (389,200,100, 2) neurons\n",
    "and for the second model,I used tanh as the activation function and hidden layers with the (389,200,100,50,25,2) neurons.\n",
    "With this two difference configuration ,I was able to get accuracy of 91 percent with first configuration and 92 percent\n",
    "with second configuration. I think the second model outperforms the first one because it has more hidden layers with \n",
    "more numbers of neurons. Theoritically, relu should perform well than tanh but in our case due to less numbers of hidden\n",
    "layers and numbers of neuron, accuracy and other metrics of second model is better."
   ]
  },
  {
   "cell_type": "markdown",
   "id": "7427d641",
   "metadata": {},
   "source": [
    "## Comparison between Different Machine Learning Algorithms"
   ]
  },
  {
   "cell_type": "markdown",
   "id": "e91431c7",
   "metadata": {},
   "source": [
    "I performed experiment with the logistic regression, Decision tree with gini, Decision tree with entrophy and two different configuration of neural network using the build in algorithms of sklearn. \n",
    "Neural network outperforms other algorithms. \n",
    "\n",
    "#### Accuracy Comparison\n",
    "With my data set, I was able to get the accuracy of about 88 percent using logistic regression, 86 percent with decision tree with gini as criterion and 91 percent with decision tree with entrophy as criterion, 91 and 92 percent with neural network using MLPClassifier of SkLearn. So, looking at this we can say that neural network outperform other algorithms.\n",
    "\n",
    "#### Precision Comparison\n",
    "Also precision for logistic regression is 0.84 and 0.96 for 0 and 1 mpg_high repectively. The precision for Decision tree with gini as criterion is 0.80 and 0.96 for 0 and 1 mpg_high repectively. The precision for Decision tree with entropy as criterion is 0.92 and 0.89 for 0 and 1 mpg_high respectively. The precision for two different neural networks are (0.92, 0.89) and (0.88,1) for 0 and 1 respectively. This shows that second neural network classified all the positive value correctly. There is some kind of trade off for 0 and 1 but in average neural network is outperforming others.\n",
    "\n",
    "#### Recall comaprison\n",
    "The recall for logistic regression is 0.98 and 0.77 for 0 and 1 mpg value respectively. The recall for Decision tree with gini as criterion is 0.98 and 0.73  and the recall for Decision tree with entropy as criterion is 0.94 and 0.86 for 0 and 1 mpg_high respectively. Also, the recall for two neural network models is (0.97, 0.86), (1, 0.82) for 0 and 1 mpg_high respecitvely. Looking at the recall data neural network outperforms other models. Recall for Decision tree with entropy as criterion is almost similar to neural network but also neural network seems to be better. \n",
    "\n",
    "\n",
    "### Reasons for Neural Network Outperforming others\n",
    "\n",
    "1) Neural network has a lot of neurons and hidden layers and at each neurons bias and weights are calculated based upon the result of previous layer. This process is also known as forward feeding.\n",
    "\n",
    "2) After the forward feeding, this algorithm goes backpropagation, which gradually optimized the model by decreasing loss functions.\n",
    "\n",
    "3) There are many parameters in neural network which makes them easier to fit with the data but other algorithms don't have as much free parameters as neural network. \n",
    "\n",
    "\n"
   ]
  },
  {
   "cell_type": "markdown",
   "id": "d6b9f0e5",
   "metadata": {},
   "source": [
    "### Comparison of Experience of Using R vs Sklearn"
   ]
  },
  {
   "cell_type": "markdown",
   "id": "f6d0f4eb",
   "metadata": {},
   "source": [
    "Since, I am familiar with python more than R, I like sklearn. Also, R has some advantages over python. Some of the statistical analysis in R was easier. I feel python better for cleaning data and data exploration. Both seems to be good for machine learning and statistical analysis but I would prefer python if the a lot of cleaning and exploration of data needs to be done. I like the summary() function in R. "
   ]
  },
  {
   "cell_type": "code",
   "execution_count": null,
   "id": "e414a11b",
   "metadata": {},
   "outputs": [],
   "source": []
  }
 ],
 "metadata": {
  "kernelspec": {
   "display_name": "Python 3",
   "language": "python",
   "name": "python3"
  },
  "language_info": {
   "codemirror_mode": {
    "name": "ipython",
    "version": 3
   },
   "file_extension": ".py",
   "mimetype": "text/x-python",
   "name": "python",
   "nbconvert_exporter": "python",
   "pygments_lexer": "ipython3",
   "version": "3.8.8"
  }
 },
 "nbformat": 4,
 "nbformat_minor": 5
}
